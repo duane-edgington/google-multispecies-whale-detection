{
  "nbformat": 4,
  "nbformat_minor": 0,
  "metadata": {
    "colab": {
      "provenance": [],
      "authorship_tag": "ABX9TyPxvO5ex486FqVbNYyv1+ki",
      "include_colab_link": true
    },
    "kernelspec": {
      "name": "python3",
      "display_name": "Python 3"
    },
    "language_info": {
      "name": "python"
    }
  },
  "cells": [
    {
      "cell_type": "markdown",
      "metadata": {
        "id": "view-in-github",
        "colab_type": "text"
      },
      "source": [
        "<a href=\"https://colab.research.google.com/github/duane-edgington/google-multispecies-whale-detection/blob/main/chunk_wavefile_5sec.ipynb\" target=\"_parent\"><img src=\"https://colab.research.google.com/assets/colab-badge.svg\" alt=\"Open In Colab\"/></a>"
      ]
    },
    {
      "cell_type": "code",
      "source": [
        "!apt install ffmpeg\n",
        "!pip install pydub\n"
      ],
      "metadata": {
        "colab": {
          "base_uri": "https://localhost:8080/"
        },
        "id": "pE1Q5tuNMicM",
        "outputId": "0ceb2dce-5152-44b4-f5bb-2e1c20d18efb"
      },
      "execution_count": null,
      "outputs": [
        {
          "output_type": "stream",
          "name": "stdout",
          "text": [
            "Reading package lists... Done\n",
            "Building dependency tree... Done\n",
            "Reading state information... Done\n",
            "ffmpeg is already the newest version (7:4.4.2-0ubuntu0.22.04.1).\n",
            "0 upgraded, 0 newly installed, 0 to remove and 35 not upgraded.\n",
            "Requirement already satisfied: pydub in /usr/local/lib/python3.11/dist-packages (0.25.1)\n"
          ]
        }
      ]
    },
    {
      "cell_type": "markdown",
      "source": [
        "python script to segment audio wav file into 5 second chunks"
      ],
      "metadata": {
        "id": "JHFkRRzTMwbw"
      }
    },
    {
      "cell_type": "markdown",
      "source": [
        "uses pydub and ffmpeg"
      ],
      "metadata": {
        "id": "wukvBhyUM38H"
      }
    },
    {
      "cell_type": "code",
      "source": [
        "# Connect Google Drive\n",
        "from google.colab import drive\n",
        "drive.mount(\"/content/drive\", force_remount=True) # This will prompt for authorization.\n"
      ],
      "metadata": {
        "colab": {
          "base_uri": "https://localhost:8080/"
        },
        "id": "3SRIAVycNhpd",
        "outputId": "da734a23-f80f-4343-d31e-5988355b58fd"
      },
      "execution_count": null,
      "outputs": [
        {
          "output_type": "stream",
          "name": "stdout",
          "text": [
            "Mounted at /content/drive\n"
          ]
        }
      ]
    },
    {
      "cell_type": "code",
      "execution_count": null,
      "metadata": {
        "colab": {
          "base_uri": "https://localhost:8080/"
        },
        "id": "WffUqbyaMSmT",
        "outputId": "82d4f225-2c1c-48db-c27f-470aeee0a352"
      },
      "outputs": [
        {
          "output_type": "stream",
          "name": "stdout",
          "text": [
            "Exported audio_chunks/0_24kHz_normalized_MARS_20180430_032912_0_chunk.wav\n",
            "Exported audio_chunks/5_24kHz_normalized_MARS_20180430_032912_5_chunk.wav\n",
            "Exported audio_chunks/10_24kHz_normalized_MARS_20180430_032912_10_chunk.wav\n",
            "Exported audio_chunks/15_24kHz_normalized_MARS_20180430_032912_15_chunk.wav\n",
            "Exported audio_chunks/20_24kHz_normalized_MARS_20180430_032912_20_chunk.wav\n",
            "Exported audio_chunks/25_24kHz_normalized_MARS_20180430_032912_25_chunk.wav\n",
            "Exported audio_chunks/30_24kHz_normalized_MARS_20180430_032912_30_chunk.wav\n",
            "Exported audio_chunks/35_24kHz_normalized_MARS_20180430_032912_35_chunk.wav\n",
            "Exported audio_chunks/40_24kHz_normalized_MARS_20180430_032912_40_chunk.wav\n",
            "Exported audio_chunks/45_24kHz_normalized_MARS_20180430_032912_45_chunk.wav\n",
            "Exported audio_chunks/50_24kHz_normalized_MARS_20180430_032912_50_chunk.wav\n",
            "Exported audio_chunks/55_24kHz_normalized_MARS_20180430_032912_55_chunk.wav\n",
            "Exported audio_chunks/60_24kHz_normalized_MARS_20180430_032912_60_chunk.wav\n",
            "Exported audio_chunks/65_24kHz_normalized_MARS_20180430_032912_65_chunk.wav\n",
            "Exported audio_chunks/70_24kHz_normalized_MARS_20180430_032912_70_chunk.wav\n",
            "Exported audio_chunks/75_24kHz_normalized_MARS_20180430_032912_75_chunk.wav\n",
            "Exported audio_chunks/80_24kHz_normalized_MARS_20180430_032912_80_chunk.wav\n",
            "Exported audio_chunks/85_24kHz_normalized_MARS_20180430_032912_85_chunk.wav\n",
            "Exported audio_chunks/90_24kHz_normalized_MARS_20180430_032912_90_chunk.wav\n",
            "Exported audio_chunks/95_24kHz_normalized_MARS_20180430_032912_95_chunk.wav\n",
            "Exported audio_chunks/100_24kHz_normalized_MARS_20180430_032912_100_chunk.wav\n",
            "Exported audio_chunks/105_24kHz_normalized_MARS_20180430_032912_105_chunk.wav\n",
            "Exported audio_chunks/110_24kHz_normalized_MARS_20180430_032912_110_chunk.wav\n",
            "Exported audio_chunks/115_24kHz_normalized_MARS_20180430_032912_115_chunk.wav\n",
            "Exported audio_chunks/120_24kHz_normalized_MARS_20180430_032912_120_chunk.wav\n",
            "Exported audio_chunks/125_24kHz_normalized_MARS_20180430_032912_125_chunk.wav\n",
            "Exported audio_chunks/130_24kHz_normalized_MARS_20180430_032912_130_chunk.wav\n",
            "Exported audio_chunks/135_24kHz_normalized_MARS_20180430_032912_135_chunk.wav\n",
            "Exported audio_chunks/140_24kHz_normalized_MARS_20180430_032912_140_chunk.wav\n",
            "Exported audio_chunks/145_24kHz_normalized_MARS_20180430_032912_145_chunk.wav\n",
            "Exported audio_chunks/150_24kHz_normalized_MARS_20180430_032912_150_chunk.wav\n",
            "Exported audio_chunks/155_24kHz_normalized_MARS_20180430_032912_155_chunk.wav\n",
            "Exported audio_chunks/160_24kHz_normalized_MARS_20180430_032912_160_chunk.wav\n",
            "Exported audio_chunks/165_24kHz_normalized_MARS_20180430_032912_165_chunk.wav\n",
            "Exported audio_chunks/170_24kHz_normalized_MARS_20180430_032912_170_chunk.wav\n",
            "Exported audio_chunks/175_24kHz_normalized_MARS_20180430_032912_175_chunk.wav\n",
            "Exported audio_chunks/180_24kHz_normalized_MARS_20180430_032912_180_chunk.wav\n",
            "Exported audio_chunks/185_24kHz_normalized_MARS_20180430_032912_185_chunk.wav\n",
            "Exported audio_chunks/190_24kHz_normalized_MARS_20180430_032912_190_chunk.wav\n",
            "Exported audio_chunks/195_24kHz_normalized_MARS_20180430_032912_195_chunk.wav\n",
            "Exported audio_chunks/200_24kHz_normalized_MARS_20180430_032912_200_chunk.wav\n",
            "Exported audio_chunks/205_24kHz_normalized_MARS_20180430_032912_205_chunk.wav\n",
            "Exported audio_chunks/210_24kHz_normalized_MARS_20180430_032912_210_chunk.wav\n",
            "Exported audio_chunks/215_24kHz_normalized_MARS_20180430_032912_215_chunk.wav\n",
            "Exported audio_chunks/220_24kHz_normalized_MARS_20180430_032912_220_chunk.wav\n",
            "Exported audio_chunks/225_24kHz_normalized_MARS_20180430_032912_225_chunk.wav\n",
            "Exported audio_chunks/230_24kHz_normalized_MARS_20180430_032912_230_chunk.wav\n",
            "Exported audio_chunks/235_24kHz_normalized_MARS_20180430_032912_235_chunk.wav\n",
            "Exported audio_chunks/240_24kHz_normalized_MARS_20180430_032912_240_chunk.wav\n",
            "Exported audio_chunks/245_24kHz_normalized_MARS_20180430_032912_245_chunk.wav\n",
            "Exported audio_chunks/250_24kHz_normalized_MARS_20180430_032912_250_chunk.wav\n",
            "Exported audio_chunks/255_24kHz_normalized_MARS_20180430_032912_255_chunk.wav\n",
            "Exported audio_chunks/260_24kHz_normalized_MARS_20180430_032912_260_chunk.wav\n",
            "Exported audio_chunks/265_24kHz_normalized_MARS_20180430_032912_265_chunk.wav\n",
            "Exported audio_chunks/270_24kHz_normalized_MARS_20180430_032912_270_chunk.wav\n",
            "Exported audio_chunks/275_24kHz_normalized_MARS_20180430_032912_275_chunk.wav\n",
            "Exported audio_chunks/280_24kHz_normalized_MARS_20180430_032912_280_chunk.wav\n",
            "Exported audio_chunks/285_24kHz_normalized_MARS_20180430_032912_285_chunk.wav\n",
            "Exported audio_chunks/290_24kHz_normalized_MARS_20180430_032912_290_chunk.wav\n",
            "Exported audio_chunks/295_24kHz_normalized_MARS_20180430_032912_295_chunk.wav\n",
            "Exported audio_chunks/300_24kHz_normalized_MARS_20180430_032912_300_chunk.wav\n",
            "Exported audio_chunks/305_24kHz_normalized_MARS_20180430_032912_305_chunk.wav\n",
            "Exported audio_chunks/310_24kHz_normalized_MARS_20180430_032912_310_chunk.wav\n",
            "Exported audio_chunks/315_24kHz_normalized_MARS_20180430_032912_315_chunk.wav\n",
            "Exported audio_chunks/320_24kHz_normalized_MARS_20180430_032912_320_chunk.wav\n",
            "Exported audio_chunks/325_24kHz_normalized_MARS_20180430_032912_325_chunk.wav\n",
            "Exported audio_chunks/330_24kHz_normalized_MARS_20180430_032912_330_chunk.wav\n",
            "Exported audio_chunks/335_24kHz_normalized_MARS_20180430_032912_335_chunk.wav\n",
            "Exported audio_chunks/340_24kHz_normalized_MARS_20180430_032912_340_chunk.wav\n",
            "Exported audio_chunks/345_24kHz_normalized_MARS_20180430_032912_345_chunk.wav\n",
            "Exported audio_chunks/350_24kHz_normalized_MARS_20180430_032912_350_chunk.wav\n",
            "Exported audio_chunks/355_24kHz_normalized_MARS_20180430_032912_355_chunk.wav\n",
            "Exported audio_chunks/360_24kHz_normalized_MARS_20180430_032912_360_chunk.wav\n",
            "Exported audio_chunks/365_24kHz_normalized_MARS_20180430_032912_365_chunk.wav\n",
            "Exported audio_chunks/370_24kHz_normalized_MARS_20180430_032912_370_chunk.wav\n",
            "Exported audio_chunks/375_24kHz_normalized_MARS_20180430_032912_375_chunk.wav\n",
            "Exported audio_chunks/380_24kHz_normalized_MARS_20180430_032912_380_chunk.wav\n",
            "Exported audio_chunks/385_24kHz_normalized_MARS_20180430_032912_385_chunk.wav\n",
            "Exported audio_chunks/390_24kHz_normalized_MARS_20180430_032912_390_chunk.wav\n",
            "Exported audio_chunks/395_24kHz_normalized_MARS_20180430_032912_395_chunk.wav\n",
            "Exported audio_chunks/400_24kHz_normalized_MARS_20180430_032912_400_chunk.wav\n",
            "Exported audio_chunks/405_24kHz_normalized_MARS_20180430_032912_405_chunk.wav\n",
            "Exported audio_chunks/410_24kHz_normalized_MARS_20180430_032912_410_chunk.wav\n",
            "Exported audio_chunks/415_24kHz_normalized_MARS_20180430_032912_415_chunk.wav\n",
            "Exported audio_chunks/420_24kHz_normalized_MARS_20180430_032912_420_chunk.wav\n",
            "Exported audio_chunks/425_24kHz_normalized_MARS_20180430_032912_425_chunk.wav\n",
            "Exported audio_chunks/430_24kHz_normalized_MARS_20180430_032912_430_chunk.wav\n",
            "Exported audio_chunks/435_24kHz_normalized_MARS_20180430_032912_435_chunk.wav\n",
            "Exported audio_chunks/440_24kHz_normalized_MARS_20180430_032912_440_chunk.wav\n",
            "Exported audio_chunks/445_24kHz_normalized_MARS_20180430_032912_445_chunk.wav\n",
            "Exported audio_chunks/450_24kHz_normalized_MARS_20180430_032912_450_chunk.wav\n",
            "Exported audio_chunks/455_24kHz_normalized_MARS_20180430_032912_455_chunk.wav\n",
            "Exported audio_chunks/460_24kHz_normalized_MARS_20180430_032912_460_chunk.wav\n",
            "Exported audio_chunks/465_24kHz_normalized_MARS_20180430_032912_465_chunk.wav\n",
            "Exported audio_chunks/470_24kHz_normalized_MARS_20180430_032912_470_chunk.wav\n",
            "Exported audio_chunks/475_24kHz_normalized_MARS_20180430_032912_475_chunk.wav\n",
            "Exported audio_chunks/480_24kHz_normalized_MARS_20180430_032912_480_chunk.wav\n",
            "Exported audio_chunks/485_24kHz_normalized_MARS_20180430_032912_485_chunk.wav\n",
            "Exported audio_chunks/490_24kHz_normalized_MARS_20180430_032912_490_chunk.wav\n",
            "Exported audio_chunks/495_24kHz_normalized_MARS_20180430_032912_495_chunk.wav\n",
            "Exported audio_chunks/500_24kHz_normalized_MARS_20180430_032912_500_chunk.wav\n",
            "Exported audio_chunks/505_24kHz_normalized_MARS_20180430_032912_505_chunk.wav\n",
            "Exported audio_chunks/510_24kHz_normalized_MARS_20180430_032912_510_chunk.wav\n",
            "Exported audio_chunks/515_24kHz_normalized_MARS_20180430_032912_515_chunk.wav\n",
            "Exported audio_chunks/520_24kHz_normalized_MARS_20180430_032912_520_chunk.wav\n",
            "Exported audio_chunks/525_24kHz_normalized_MARS_20180430_032912_525_chunk.wav\n",
            "Exported audio_chunks/530_24kHz_normalized_MARS_20180430_032912_530_chunk.wav\n",
            "Exported audio_chunks/535_24kHz_normalized_MARS_20180430_032912_535_chunk.wav\n",
            "Exported audio_chunks/540_24kHz_normalized_MARS_20180430_032912_540_chunk.wav\n",
            "Exported audio_chunks/545_24kHz_normalized_MARS_20180430_032912_545_chunk.wav\n",
            "Exported audio_chunks/550_24kHz_normalized_MARS_20180430_032912_550_chunk.wav\n",
            "Exported audio_chunks/555_24kHz_normalized_MARS_20180430_032912_555_chunk.wav\n",
            "Exported audio_chunks/560_24kHz_normalized_MARS_20180430_032912_560_chunk.wav\n",
            "Exported audio_chunks/565_24kHz_normalized_MARS_20180430_032912_565_chunk.wav\n",
            "Exported audio_chunks/570_24kHz_normalized_MARS_20180430_032912_570_chunk.wav\n",
            "Exported audio_chunks/575_24kHz_normalized_MARS_20180430_032912_575_chunk.wav\n",
            "Exported audio_chunks/580_24kHz_normalized_MARS_20180430_032912_580_chunk.wav\n",
            "Exported audio_chunks/585_24kHz_normalized_MARS_20180430_032912_585_chunk.wav\n",
            "Exported audio_chunks/590_24kHz_normalized_MARS_20180430_032912_590_chunk.wav\n",
            "Exported audio_chunks/595_24kHz_normalized_MARS_20180430_032912_595_chunk.wav\n"
          ]
        }
      ],
      "source": [
        "from pydub import AudioSegment\n",
        "import os\n",
        "\n",
        "def segment_audio(input_file, chunk_length, rootname):\n",
        "    # Load the audio file\n",
        "    audio = AudioSegment.from_wav(input_file)\n",
        "\n",
        "    # Get the duration of the audio in milliseconds\n",
        "    duration = len(audio)\n",
        "\n",
        "    # Create a directory to store the chunks\n",
        "    output_dir = \"audio_chunks\"\n",
        "    os.makedirs(output_dir, exist_ok=True)\n",
        "\n",
        "    # Segment the audio\n",
        "    for start in range(0, duration, chunk_length * 1000):\n",
        "        end = min(start + chunk_length * 1000, duration)\n",
        "        chunk = audio[start:end]\n",
        "\n",
        "        # Construct output file name\n",
        "        chunk_file = os.path.join(output_dir, f\"{start // 1000}_{rootname}_{start // 1000}_chunk.wav\")\n",
        "\n",
        "        # Export the chunk\n",
        "        chunk.export(chunk_file, format=\"wav\")\n",
        "        print(f\"Exported {chunk_file}\")\n",
        "\n",
        "if __name__ == \"__main__\":\n",
        "    #input_wav_file = \"/content/drive/My Drive/orca/MARS-20180413T080000Z-16kHz-orcas.wav\"  # Replace with your WAV file path\n",
        "    #input_wav_file = \"/content/drive/My Drive/orca/MARS-20180413T080000Z-24kHz-16bit-orcas.wav\"\n",
        "    input_wav_file = \"/content/drive/MyDrive/audio_chunks/24kHz_normalized_MARS_20180430_032912.wav\"\n",
        "\n",
        "    rootname = os.path.splitext(os.path.basename(input_wav_file))[0]\n",
        "    chunk_length = 5  # Chunk length in seconds\n",
        "    segment_audio(input_wav_file,chunk_length,rootname)\n"
      ]
    },
    {
      "cell_type": "code",
      "source": [],
      "metadata": {
        "id": "Ebe42fA7aiiI"
      },
      "execution_count": null,
      "outputs": []
    },
    {
      "cell_type": "code",
      "source": [
        "#!ls /content/drive/MyDrive/UrbanSound8K\n",
        "!ls /content/drive/MyDrive/audio_chunks"
      ],
      "metadata": {
        "id": "DFu2mtaFaH2I",
        "colab": {
          "base_uri": "https://localhost:8080/"
        },
        "outputId": "4d3e1116-d4c3-44ae-f419-6e54e8676326"
      },
      "execution_count": null,
      "outputs": [
        {
          "output_type": "stream",
          "name": "stdout",
          "text": [
            "24kHz_normalized_MARS_20180430_032912.wav\n"
          ]
        }
      ]
    },
    {
      "cell_type": "code",
      "source": [
        "!cp /content/audio_chunks/*.wav '/content/drive/MyDrive/audio_chunks/'"
      ],
      "metadata": {
        "id": "7rmcxupbZPUA"
      },
      "execution_count": null,
      "outputs": []
    },
    {
      "cell_type": "code",
      "source": [
        "!ls /content/drive/MyDrive/audio_chunks"
      ],
      "metadata": {
        "id": "SG483by1r-sC",
        "colab": {
          "base_uri": "https://localhost:8080/"
        },
        "outputId": "9f428343-e537-4fc4-b8e8-9c37e21219bb"
      },
      "execution_count": null,
      "outputs": [
        {
          "output_type": "stream",
          "name": "stdout",
          "text": [
            "0_24kHz_normalized_MARS_20180430_032912_0_chunk.wav\n",
            "100_24kHz_normalized_MARS_20180430_032912_100_chunk.wav\n",
            "10_24kHz_normalized_MARS_20180430_032912_10_chunk.wav\n",
            "105_24kHz_normalized_MARS_20180430_032912_105_chunk.wav\n",
            "110_24kHz_normalized_MARS_20180430_032912_110_chunk.wav\n",
            "115_24kHz_normalized_MARS_20180430_032912_115_chunk.wav\n",
            "120_24kHz_normalized_MARS_20180430_032912_120_chunk.wav\n",
            "125_24kHz_normalized_MARS_20180430_032912_125_chunk.wav\n",
            "130_24kHz_normalized_MARS_20180430_032912_130_chunk.wav\n",
            "135_24kHz_normalized_MARS_20180430_032912_135_chunk.wav\n",
            "140_24kHz_normalized_MARS_20180430_032912_140_chunk.wav\n",
            "145_24kHz_normalized_MARS_20180430_032912_145_chunk.wav\n",
            "150_24kHz_normalized_MARS_20180430_032912_150_chunk.wav\n",
            "15_24kHz_normalized_MARS_20180430_032912_15_chunk.wav\n",
            "155_24kHz_normalized_MARS_20180430_032912_155_chunk.wav\n",
            "160_24kHz_normalized_MARS_20180430_032912_160_chunk.wav\n",
            "165_24kHz_normalized_MARS_20180430_032912_165_chunk.wav\n",
            "170_24kHz_normalized_MARS_20180430_032912_170_chunk.wav\n",
            "175_24kHz_normalized_MARS_20180430_032912_175_chunk.wav\n",
            "180_24kHz_normalized_MARS_20180430_032912_180_chunk.wav\n",
            "185_24kHz_normalized_MARS_20180430_032912_185_chunk.wav\n",
            "190_24kHz_normalized_MARS_20180430_032912_190_chunk.wav\n",
            "195_24kHz_normalized_MARS_20180430_032912_195_chunk.wav\n",
            "200_24kHz_normalized_MARS_20180430_032912_200_chunk.wav\n",
            "20_24kHz_normalized_MARS_20180430_032912_20_chunk.wav\n",
            "205_24kHz_normalized_MARS_20180430_032912_205_chunk.wav\n",
            "210_24kHz_normalized_MARS_20180430_032912_210_chunk.wav\n",
            "215_24kHz_normalized_MARS_20180430_032912_215_chunk.wav\n",
            "220_24kHz_normalized_MARS_20180430_032912_220_chunk.wav\n",
            "225_24kHz_normalized_MARS_20180430_032912_225_chunk.wav\n",
            "230_24kHz_normalized_MARS_20180430_032912_230_chunk.wav\n",
            "235_24kHz_normalized_MARS_20180430_032912_235_chunk.wav\n",
            "240_24kHz_normalized_MARS_20180430_032912_240_chunk.wav\n",
            "245_24kHz_normalized_MARS_20180430_032912_245_chunk.wav\n",
            "24kHz_normalized_MARS_20180430_032912.wav\n",
            "250_24kHz_normalized_MARS_20180430_032912_250_chunk.wav\n",
            "25_24kHz_normalized_MARS_20180430_032912_25_chunk.wav\n",
            "255_24kHz_normalized_MARS_20180430_032912_255_chunk.wav\n",
            "260_24kHz_normalized_MARS_20180430_032912_260_chunk.wav\n",
            "265_24kHz_normalized_MARS_20180430_032912_265_chunk.wav\n",
            "270_24kHz_normalized_MARS_20180430_032912_270_chunk.wav\n",
            "275_24kHz_normalized_MARS_20180430_032912_275_chunk.wav\n",
            "280_24kHz_normalized_MARS_20180430_032912_280_chunk.wav\n",
            "285_24kHz_normalized_MARS_20180430_032912_285_chunk.wav\n",
            "290_24kHz_normalized_MARS_20180430_032912_290_chunk.wav\n",
            "295_24kHz_normalized_MARS_20180430_032912_295_chunk.wav\n",
            "300_24kHz_normalized_MARS_20180430_032912_300_chunk.wav\n",
            "30_24kHz_normalized_MARS_20180430_032912_30_chunk.wav\n",
            "305_24kHz_normalized_MARS_20180430_032912_305_chunk.wav\n",
            "310_24kHz_normalized_MARS_20180430_032912_310_chunk.wav\n",
            "315_24kHz_normalized_MARS_20180430_032912_315_chunk.wav\n",
            "320_24kHz_normalized_MARS_20180430_032912_320_chunk.wav\n",
            "325_24kHz_normalized_MARS_20180430_032912_325_chunk.wav\n",
            "330_24kHz_normalized_MARS_20180430_032912_330_chunk.wav\n",
            "335_24kHz_normalized_MARS_20180430_032912_335_chunk.wav\n",
            "340_24kHz_normalized_MARS_20180430_032912_340_chunk.wav\n",
            "345_24kHz_normalized_MARS_20180430_032912_345_chunk.wav\n",
            "350_24kHz_normalized_MARS_20180430_032912_350_chunk.wav\n",
            "35_24kHz_normalized_MARS_20180430_032912_35_chunk.wav\n",
            "355_24kHz_normalized_MARS_20180430_032912_355_chunk.wav\n",
            "360_24kHz_normalized_MARS_20180430_032912_360_chunk.wav\n",
            "365_24kHz_normalized_MARS_20180430_032912_365_chunk.wav\n",
            "370_24kHz_normalized_MARS_20180430_032912_370_chunk.wav\n",
            "375_24kHz_normalized_MARS_20180430_032912_375_chunk.wav\n",
            "380_24kHz_normalized_MARS_20180430_032912_380_chunk.wav\n",
            "385_24kHz_normalized_MARS_20180430_032912_385_chunk.wav\n",
            "390_24kHz_normalized_MARS_20180430_032912_390_chunk.wav\n",
            "395_24kHz_normalized_MARS_20180430_032912_395_chunk.wav\n",
            "400_24kHz_normalized_MARS_20180430_032912_400_chunk.wav\n",
            "40_24kHz_normalized_MARS_20180430_032912_40_chunk.wav\n",
            "405_24kHz_normalized_MARS_20180430_032912_405_chunk.wav\n",
            "410_24kHz_normalized_MARS_20180430_032912_410_chunk.wav\n",
            "415_24kHz_normalized_MARS_20180430_032912_415_chunk.wav\n",
            "420_24kHz_normalized_MARS_20180430_032912_420_chunk.wav\n",
            "425_24kHz_normalized_MARS_20180430_032912_425_chunk.wav\n",
            "430_24kHz_normalized_MARS_20180430_032912_430_chunk.wav\n",
            "435_24kHz_normalized_MARS_20180430_032912_435_chunk.wav\n",
            "440_24kHz_normalized_MARS_20180430_032912_440_chunk.wav\n",
            "445_24kHz_normalized_MARS_20180430_032912_445_chunk.wav\n",
            "450_24kHz_normalized_MARS_20180430_032912_450_chunk.wav\n",
            "45_24kHz_normalized_MARS_20180430_032912_45_chunk.wav\n",
            "455_24kHz_normalized_MARS_20180430_032912_455_chunk.wav\n",
            "460_24kHz_normalized_MARS_20180430_032912_460_chunk.wav\n",
            "465_24kHz_normalized_MARS_20180430_032912_465_chunk.wav\n",
            "470_24kHz_normalized_MARS_20180430_032912_470_chunk.wav\n",
            "475_24kHz_normalized_MARS_20180430_032912_475_chunk.wav\n",
            "480_24kHz_normalized_MARS_20180430_032912_480_chunk.wav\n",
            "485_24kHz_normalized_MARS_20180430_032912_485_chunk.wav\n",
            "490_24kHz_normalized_MARS_20180430_032912_490_chunk.wav\n",
            "495_24kHz_normalized_MARS_20180430_032912_495_chunk.wav\n",
            "500_24kHz_normalized_MARS_20180430_032912_500_chunk.wav\n",
            "50_24kHz_normalized_MARS_20180430_032912_50_chunk.wav\n",
            "505_24kHz_normalized_MARS_20180430_032912_505_chunk.wav\n",
            "510_24kHz_normalized_MARS_20180430_032912_510_chunk.wav\n",
            "515_24kHz_normalized_MARS_20180430_032912_515_chunk.wav\n",
            "520_24kHz_normalized_MARS_20180430_032912_520_chunk.wav\n",
            "5_24kHz_normalized_MARS_20180430_032912_5_chunk.wav\n",
            "525_24kHz_normalized_MARS_20180430_032912_525_chunk.wav\n",
            "530_24kHz_normalized_MARS_20180430_032912_530_chunk.wav\n",
            "535_24kHz_normalized_MARS_20180430_032912_535_chunk.wav\n",
            "540_24kHz_normalized_MARS_20180430_032912_540_chunk.wav\n",
            "545_24kHz_normalized_MARS_20180430_032912_545_chunk.wav\n",
            "550_24kHz_normalized_MARS_20180430_032912_550_chunk.wav\n",
            "55_24kHz_normalized_MARS_20180430_032912_55_chunk.wav\n",
            "555_24kHz_normalized_MARS_20180430_032912_555_chunk.wav\n",
            "560_24kHz_normalized_MARS_20180430_032912_560_chunk.wav\n",
            "565_24kHz_normalized_MARS_20180430_032912_565_chunk.wav\n",
            "570_24kHz_normalized_MARS_20180430_032912_570_chunk.wav\n",
            "575_24kHz_normalized_MARS_20180430_032912_575_chunk.wav\n",
            "580_24kHz_normalized_MARS_20180430_032912_580_chunk.wav\n",
            "585_24kHz_normalized_MARS_20180430_032912_585_chunk.wav\n",
            "590_24kHz_normalized_MARS_20180430_032912_590_chunk.wav\n",
            "595_24kHz_normalized_MARS_20180430_032912_595_chunk.wav\n",
            "60_24kHz_normalized_MARS_20180430_032912_60_chunk.wav\n",
            "65_24kHz_normalized_MARS_20180430_032912_65_chunk.wav\n",
            "70_24kHz_normalized_MARS_20180430_032912_70_chunk.wav\n",
            "75_24kHz_normalized_MARS_20180430_032912_75_chunk.wav\n",
            "80_24kHz_normalized_MARS_20180430_032912_80_chunk.wav\n",
            "85_24kHz_normalized_MARS_20180430_032912_85_chunk.wav\n",
            "90_24kHz_normalized_MARS_20180430_032912_90_chunk.wav\n",
            "95_24kHz_normalized_MARS_20180430_032912_95_chunk.wav\n"
          ]
        }
      ]
    },
    {
      "cell_type": "code",
      "source": [],
      "metadata": {
        "id": "T2P9wZX2afym"
      },
      "execution_count": null,
      "outputs": []
    }
  ]
}